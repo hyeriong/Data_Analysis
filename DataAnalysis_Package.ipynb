{
  "nbformat": 4,
  "nbformat_minor": 0,
  "metadata": {
    "colab": {
      "provenance": [],
      "authorship_tag": "ABX9TyOpjejkmx3q52zkVNcS8rOh",
      "include_colab_link": true
    },
    "kernelspec": {
      "name": "python3",
      "display_name": "Python 3"
    },
    "language_info": {
      "name": "python"
    }
  },
  "cells": [
    {
      "cell_type": "markdown",
      "metadata": {
        "id": "view-in-github",
        "colab_type": "text"
      },
      "source": [
        "<a href=\"https://colab.research.google.com/github/hyeriong/Data_Analysis/blob/main/DataAnalysis_Package.ipynb\" target=\"_parent\"><img src=\"https://colab.research.google.com/assets/colab-badge.svg\" alt=\"Open In Colab\"/></a>"
      ]
    },
    {
      "cell_type": "markdown",
      "source": [
        "# 데이터 분석할 때 사용하는 대표적인 패키지\n",
        "- 참고한 링크: https://datascienceschool.net/01%20python/01.04%20%EB%8D%B0%EC%9D%B4%ED%84%B0%20%EB%B6%84%EC%84%9D%EC%9A%A9%20%ED%8C%8C%EC%9D%B4%EC%8D%AC%20%ED%8C%A8%ED%82%A4%EC%A7%80%20%EC%86%8C%EA%B0%9C.html\n"
      ],
      "metadata": {
        "id": "-XGI4AEWaGDB"
      }
    },
    {
      "cell_type": "markdown",
      "source": [
        "## Pandas\n",
        "- https://github.com/hyeriong/Data_Analysis/blob/main/DataFrame_Columns.ipynb\n",
        "- 위 링크의 초반에서 언급했었음.\n",
        "- '판다스'라고 읽음.\n",
        "- Pandas는 데이터 분석을 위한 필수적인 파이썬 패키지\n",
        "- 테이블 형태의 데이터를 다루는 데이터프레임 자료형 제공\n",
        "- 자료의 탐색 및 정리에 유용\n",
        "- Wes Mckinney에 의해 개발(2008)\n",
        "- R언어에서 제공하는 데이터프레임 자료구조를 파이썬에서 사용할 수 있도록 재구현\n",
        "- pd라는 명칭으로 임포트하는 것이 관례\n",
        "- 파이썬 pandas는 세 가지의 데이터 구조를 사용한다.\n",
        "  - Series\n",
        "  - DataFrame\n",
        "  - Panel\n",
        "\n",
        "- 판다스와 관련된 더 자세한 설명은 : http://pandas.pydata.org/\n"
      ],
      "metadata": {
        "id": "3cfegz3SaNBE"
      }
    },
    {
      "cell_type": "code",
      "execution_count": 1,
      "metadata": {
        "id": "yn0nVxBsZ52t"
      },
      "outputs": [],
      "source": [
        "import pandas as pd"
      ]
    },
    {
      "cell_type": "markdown",
      "source": [
        "## Numpy\n",
        "- 넘파이라고 읽는다\n",
        "- 파이썬에서 수치 해석 및 선형 대수 계산 기능을 제공\n",
        "- 자료형이 고정된 다차원 배열 클래스와 벡터화 연산을 지원\n",
        "- 수학 연산을 위한 가장 기본적이고 중요한 패키지\n",
        "- Travis Oliphant에 의해 개발(2005)\n",
        "- np로 임포트하는 것이 일반적\n",
        "\n",
        "- numpy와 관련된 더 자세한 설명은 : http://www.numpy.org/\n"
      ],
      "metadata": {
        "id": "zc5MX6IKbRl7"
      }
    },
    {
      "cell_type": "code",
      "source": [
        "import numpy as np"
      ],
      "metadata": {
        "id": "U1-9vDnebwFP"
      },
      "execution_count": 3,
      "outputs": []
    },
    {
      "cell_type": "markdown",
      "source": [
        "## Matplolib\n",
        "- '맷플롯립'이라 읽는다\n",
        "- 파이썬에서 각종 그래프나 차트 등을 그리는 시각화 기능 제공\n",
        "- MATLAB의 그래프 기능을 거의 동일하게 사용할 수 있는 pylab이라는 서브패키지를 제공함\n",
        "- John D.Hunter에 의해 개발(2002)\n",
        "- matplotlib과 관련된 더 자세한 설명은 : http://matplotlib.org/\n"
      ],
      "metadata": {
        "id": "-si0FGp8cLJj"
      }
    },
    {
      "cell_type": "code",
      "source": [
        "import matplotlib"
      ],
      "metadata": {
        "id": "owUS8N0acLsJ"
      },
      "execution_count": 4,
      "outputs": []
    },
    {
      "cell_type": "markdown",
      "source": [
        "## Seaborn\n",
        "- '시본'이라고 읽는다\n",
        "- Matplotlib 패키지에서 지원하지 않는 고급 통계 차트를 그리는 통계용 시각화 기능을 제공\n",
        "- 즉, 시각화 라이브러리이며, 통계용 차트 및 컬러맵이 추가됨\n",
        "- Michael Waskom에 의해 개발(2012)\n",
        "- sns로 임포트하는 것이 일반적\n",
        "- seaborn과 관련된 더 자세한 설명은 : http://seaborn.pydata.org/\n"
      ],
      "metadata": {
        "id": "lAqoPicNb34z"
      }
    },
    {
      "cell_type": "code",
      "source": [
        "import seaborn as sns"
      ],
      "metadata": {
        "id": "yJK_asTWbyr9"
      },
      "execution_count": 5,
      "outputs": []
    },
    {
      "cell_type": "markdown",
      "source": [
        "## Scipy\n",
        "- '사이파이'라고 읽음\n",
        "- 과학기술 함수 라이브러리\n",
        "- 고급 수학 함수, 수치적 미적분, 미분 방정식 계산, 최적화, 신호 처리 등에 사용하는 다양한 과학 기술 계산 기능 제공\n",
        "- Travis Oliphant와 Pearu Peterson에 의해 통합, 정리됨(2001)\n",
        "- 더 자세한 설명은 : http://www.scipy.org/"
      ],
      "metadata": {
        "id": "O4jxT5MWc4ET"
      }
    },
    {
      "cell_type": "code",
      "source": [
        "import scipy"
      ],
      "metadata": {
        "id": "jTBVE9ZZc0OZ"
      },
      "execution_count": 6,
      "outputs": []
    },
    {
      "cell_type": "markdown",
      "source": [
        "## Sympy\n",
        "- '심파이'라고 읽음\n",
        "- 심볼릭 연산 라이브러리\n",
        "- 숫자를 더하거나 빼는 수치 연산이 아니라 인수분해, 미분, 적분 등 심볼릭 연산 기능 제공\n",
        "- 더 자세한 설명은 : http://www.sympy.org/\n"
      ],
      "metadata": {
        "id": "uhnINPfbfB2q"
      }
    },
    {
      "cell_type": "code",
      "source": [
        "import sympy"
      ],
      "metadata": {
        "id": "BMaV7YnDe-rm"
      },
      "execution_count": 7,
      "outputs": []
    }
  ]
}